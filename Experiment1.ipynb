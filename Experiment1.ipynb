{
 "cells": [
  {
   "cell_type": "code",
   "execution_count": 3,
   "metadata": {},
   "outputs": [
    {
     "name": "stderr",
     "output_type": "stream",
     "text": [
      "z:\\Uni-CE901\\.venv\\lib\\site-packages\\tqdm\\auto.py:21: TqdmWarning: IProgress not found. Please update jupyter and ipywidgets. See https://ipywidgets.readthedocs.io/en/stable/user_install.html\n",
      "  from .autonotebook import tqdm as notebook_tqdm\n"
     ]
    }
   ],
   "source": [
    "# libaries \n",
    "\n",
    "from langchain.document_loaders import DirectoryLoader, TextLoader\n",
    "from langchain.text_splitter import CharacterTextSplitter\n",
    "from langchain.embeddings import HuggingFaceEmbeddings\n",
    "from langchain_community.vectorstores import FAISS\n",
    "from langchain.llms import CTransformers\n",
    "from langchain import PromptTemplate\n",
    "from langchain.chains import RetrievalQA\n",
    "from transformers import AutoTokenizer\n",
    "from IPython.display import display, HTML\n",
    "import json\n",
    "import time\n",
    "import pathlib\n",
    "import os"
   ]
  },
  {
   "cell_type": "code",
   "execution_count": 4,
   "metadata": {},
   "outputs": [
    {
     "name": "stderr",
     "output_type": "stream",
     "text": [
      "z:\\Uni-CE901\\.venv\\lib\\site-packages\\huggingface_hub\\file_download.py:1132: FutureWarning: `resume_download` is deprecated and will be removed in version 1.0.0. Downloads always resume when possible. If you want to force a new download, use `force_download=True`.\n",
      "  warnings.warn(\n",
      "z:\\Uni-CE901\\.venv\\lib\\site-packages\\huggingface_hub\\file_download.py:1132: FutureWarning: `resume_download` is deprecated and will be removed in version 1.0.0. Downloads always resume when possible. If you want to force a new download, use `force_download=True`.\n",
      "  warnings.warn(\n"
     ]
    }
   ],
   "source": [
    "# Reading text files\n",
    "\n",
    "# define what documents to load and where from\n",
    "class UTF8TextLoader(TextLoader):\n",
    "    def __init__(self, file_path: str, encoding: str = 'utf-8'):\n",
    "        super().__init__(file_path, encoding)\n",
    "        \n",
    "loader = DirectoryLoader(\"./\", glob=\"*.txt\", loader_cls=UTF8TextLoader)\n",
    "\n",
    "# interpret information in the documents provided\n",
    "documents = loader.load()\n",
    "splitter = CharacterTextSplitter(chunk_size=1000, chunk_overlap=0)\n",
    "texts = splitter.split_documents(documents)\n",
    "embeddings = HuggingFaceEmbeddings(\n",
    "    model_name=\"sentence-transformers/all-MiniLM-L6-v2\",\n",
    "    model_kwargs={'device': 'cpu'})\n",
    "\n",
    "# create and save the local database\n",
    "db = FAISS.from_documents(texts, embeddings)\n",
    "db.save_local(\"faiss\")"
   ]
  },
  {
   "cell_type": "code",
   "execution_count": 5,
   "metadata": {},
   "outputs": [
    {
     "name": "stderr",
     "output_type": "stream",
     "text": [
      "Token indices sequence length is longer than the specified maximum sequence length for this model (1231 > 1024). Running this sequence through the model will result in indexing errors\n"
     ]
    },
    {
     "name": "stdout",
     "output_type": "stream",
     "text": [
      "File: Anxiety_Causes.txt, Tokens: 271\n",
      "File: Anxiety_HelpingFriends.txt, Tokens: 950\n",
      "WARNING: Anxiety_HelpingFriends.txt exceeds the maximum token limit of 512\n",
      "File: Anxiety_PanicAttacks.txt, Tokens: 117\n",
      "File: Anxiety_symptoms.txt, Tokens: 204\n",
      "File: Anxiety_WhatToDo.txt, Tokens: 262\n",
      "File: Anxiety_WhatToSay.txt, Tokens: 399\n",
      "File: Depression.txt, Tokens: 1231\n",
      "WARNING: Depression.txt exceeds the maximum token limit of 512\n",
      "File: Depression_Causes.txt, Tokens: 774\n",
      "WARNING: Depression_Causes.txt exceeds the maximum token limit of 512\n",
      "File: Depression_HelpingFriends.txt, Tokens: 767\n",
      "WARNING: Depression_HelpingFriends.txt exceeds the maximum token limit of 512\n",
      "File: Depression_HowToTell&Living.txt, Tokens: 213\n",
      "File: Depression_Symptoms.txt, Tokens: 271\n",
      "File: Depression_Treatment&Doctor.txt, Tokens: 207\n",
      "File: Depression_Treatments.txt, Tokens: 1231\n",
      "WARNING: Depression_Treatments.txt exceeds the maximum token limit of 512\n",
      "File: Depression_Types.txt, Tokens: 519\n",
      "WARNING: Depression_Types.txt exceeds the maximum token limit of 512\n",
      "File: Depression_WhatToSay.txt, Tokens: 512\n",
      "File: Depression_WhenToSeeDoctor&Treatments.txt, Tokens: 207\n",
      "File: Depression_WhenToSeeDoctor.txt, Tokens: 207\n",
      "File: Stress_Causes.txt, Tokens: 373\n",
      "File: Stress_HelpingFriends.txt, Tokens: 491\n",
      "File: Stress_Symptoms.txt, Tokens: 427\n",
      "File: Stress_WhatIsIt.txt, Tokens: 128\n",
      "File: Stress_WhatToDo.txt, Tokens: 770\n",
      "WARNING: Stress_WhatToDo.txt exceeds the maximum token limit of 512\n"
     ]
    }
   ],
   "source": [
    "# Set the path to where you have the text files\n",
    "directory_path = r\"Z:\\Uni-CE901\\22-24_CE901-CE911-CF981-SU_stoyles_thomas\\Data\"  # Change this to your directory\n",
    "\n",
    "# Initialize the tokenizer \n",
    "tokenizer = AutoTokenizer.from_pretrained(\"gpt2\") # Change if you wish to test other tokenizers\n",
    "\n",
    "#counting tokens in files and directory\n",
    "def count_tokens_in_file(file_path, tokenizer):\n",
    "    with open(file_path, 'r', encoding='utf-8') as file:\n",
    "        text = file.read()\n",
    "    tokens = tokenizer.encode(text)\n",
    "    return len(tokens)\n",
    "\n",
    "def check_tokens_in_directory(directory_path, tokenizer, max_tokens=2048):\n",
    "    for file_name in os.listdir(directory_path):\n",
    "        if file_name.endswith('.txt'):\n",
    "            file_path = os.path.join(directory_path, file_name)\n",
    "            num_tokens = count_tokens_in_file(file_path, tokenizer)\n",
    "            print(f\"File: {file_name}, Tokens: {num_tokens}\")\n",
    "            if num_tokens > max_tokens:\n",
    "                print(f\"WARNING: {file_name} exceeds the maximum token limit of {max_tokens}\")\n",
    "\n",
    "# Check token counts in the directory\n",
    "check_tokens_in_directory(directory_path, tokenizer, max_tokens=512)  # Adjust max_tokens to your max token count\n"
   ]
  },
  {
   "cell_type": "code",
   "execution_count": 5,
   "metadata": {},
   "outputs": [
    {
     "ename": "ValidationError",
     "evalue": "1 validation error for CTransformers\n__root__\n  Model path '../llama-2-7b-chat.ggmlv3.q8_0.bin' doesn't exist. (type=value_error)",
     "output_type": "error",
     "traceback": [
      "\u001b[1;31m---------------------------------------------------------------------------\u001b[0m",
      "\u001b[1;31mValidationError\u001b[0m                           Traceback (most recent call last)",
      "Cell \u001b[1;32mIn[5], line 5\u001b[0m\n\u001b[0;32m      2\u001b[0m template \u001b[38;5;241m=\u001b[39m \u001b[38;5;124m\"\"\"\u001b[39m\u001b[38;5;124mContext: \u001b[39m\u001b[38;5;132;01m{context}\u001b[39;00m\u001b[38;5;124m Question: \u001b[39m\u001b[38;5;132;01m{question}\u001b[39;00m\u001b[38;5;124m\"\"\"\u001b[39m\n\u001b[0;32m      4\u001b[0m \u001b[38;5;66;03m# load the language model (Editing model to find best and tokens)\u001b[39;00m\n\u001b[1;32m----> 5\u001b[0m llm \u001b[38;5;241m=\u001b[39m \u001b[43mCTransformers\u001b[49m\u001b[43m(\u001b[49m\u001b[43mmodel\u001b[49m\u001b[38;5;241;43m=\u001b[39;49m\u001b[38;5;124;43m'\u001b[39;49m\u001b[38;5;124;43m../llama-2-7b-chat.ggmlv3.q8_0.bin\u001b[39;49m\u001b[38;5;124;43m'\u001b[39;49m\u001b[43m,\u001b[49m\n\u001b[0;32m      6\u001b[0m \u001b[43m                    \u001b[49m\u001b[43mmodel_type\u001b[49m\u001b[38;5;241;43m=\u001b[39;49m\u001b[38;5;124;43m'\u001b[39;49m\u001b[38;5;124;43mllama\u001b[39;49m\u001b[38;5;124;43m'\u001b[39;49m\u001b[43m,\u001b[49m\u001b[43m \u001b[49m\u001b[43mconfig\u001b[49m\u001b[43m \u001b[49m\u001b[38;5;241;43m=\u001b[39;49m\u001b[43m \u001b[49m\u001b[43m{\u001b[49m\u001b[38;5;124;43m'\u001b[39;49m\u001b[38;5;124;43mmax_new_tokens\u001b[39;49m\u001b[38;5;124;43m'\u001b[39;49m\u001b[43m:\u001b[49m\u001b[43m \u001b[49m\u001b[38;5;241;43m2048\u001b[39;49m\u001b[43m,\u001b[49m\u001b[43m \u001b[49m\u001b[38;5;124;43m'\u001b[39;49m\u001b[38;5;124;43mtemperature\u001b[39;49m\u001b[38;5;124;43m'\u001b[39;49m\u001b[43m:\u001b[49m\u001b[43m \u001b[49m\u001b[38;5;241;43m0.01\u001b[39;49m\u001b[43m,\u001b[49m\u001b[43m \u001b[49m\u001b[38;5;124;43m'\u001b[39;49m\u001b[38;5;124;43mcontext_length\u001b[39;49m\u001b[38;5;124;43m'\u001b[39;49m\u001b[43m:\u001b[49m\u001b[43m \u001b[49m\u001b[38;5;241;43m2048\u001b[39;49m\u001b[43m}\u001b[49m\u001b[43m)\u001b[49m\n\u001b[0;32m      8\u001b[0m \u001b[38;5;66;03m# Enable dangerous deserialization if available\u001b[39;00m\n\u001b[0;32m      9\u001b[0m \u001b[38;5;28;01mif\u001b[39;00m \u001b[38;5;28mhasattr\u001b[39m(llm, \u001b[38;5;124m'\u001b[39m\u001b[38;5;124mallow_dangerous_deserialization\u001b[39m\u001b[38;5;124m'\u001b[39m):\n",
      "File \u001b[1;32mz:\\Uni-CE901\\.venv\\lib\\site-packages\\pydantic\\v1\\main.py:341\u001b[0m, in \u001b[0;36mBaseModel.__init__\u001b[1;34m(__pydantic_self__, **data)\u001b[0m\n\u001b[0;32m    339\u001b[0m values, fields_set, validation_error \u001b[38;5;241m=\u001b[39m validate_model(__pydantic_self__\u001b[38;5;241m.\u001b[39m\u001b[38;5;18m__class__\u001b[39m, data)\n\u001b[0;32m    340\u001b[0m \u001b[38;5;28;01mif\u001b[39;00m validation_error:\n\u001b[1;32m--> 341\u001b[0m     \u001b[38;5;28;01mraise\u001b[39;00m validation_error\n\u001b[0;32m    342\u001b[0m \u001b[38;5;28;01mtry\u001b[39;00m:\n\u001b[0;32m    343\u001b[0m     object_setattr(__pydantic_self__, \u001b[38;5;124m'\u001b[39m\u001b[38;5;124m__dict__\u001b[39m\u001b[38;5;124m'\u001b[39m, values)\n",
      "\u001b[1;31mValidationError\u001b[0m: 1 validation error for CTransformers\n__root__\n  Model path '../llama-2-7b-chat.ggmlv3.q8_0.bin' doesn't exist. (type=value_error)"
     ]
    }
   ],
   "source": [
    "# prepare the template we will use when prompting the response\n",
    "template = \"\"\"Context: {context} Question: {question}\"\"\"\n",
    "\n",
    "# load the language model\n",
    "llm = CTransformers(model='../llama-2-7b-chat.ggmlv3.q8_0.bin',\n",
    "                    model_type='llama', config = {'max_new_tokens': 2048, 'temperature': 0.01, 'context_length': 2048})\n",
    "\n",
    "# Enable dangerous deserialization\n",
    "if hasattr(llm, 'allow_dangerous_deserialization'):\n",
    "    llm.allow_dangerous_deserialization = True\n",
    "\n",
    "# load the interpreted information from the local database\n",
    "embeddings = HuggingFaceEmbeddings(\n",
    "    model_name=\"sentence-transformers/all-MiniLM-L6-v2\",\n",
    "    model_kwargs={'device': 'cpu'})\n",
    "db = FAISS.load_local(\"faiss\", embeddings, allow_dangerous_deserialization=True)\n",
    "\n",
    "# prepare a version of the llm pre-loaded with the local content\n",
    "retriever = db.as_retriever(search_kwargs={'k': 5}) # Max number of documents to read (k)\n",
    "prompt = PromptTemplate(\n",
    "    template=template,\n",
    "    input_variables=['context', 'question'])\n",
    "\n",
    "QA_LLM = RetrievalQA.from_chain_type(llm=llm,\n",
    "                                     chain_type='stuff',\n",
    "                                     retriever=retriever,\n",
    "                                     return_source_documents=True,\n",
    "                                     chain_type_kwargs={'prompt': prompt})"
   ]
  },
  {
   "cell_type": "code",
   "execution_count": null,
   "metadata": {},
   "outputs": [],
   "source": [
    "# Defining query\n",
    "\n",
    "def query(model, question):\n",
    "    model_path = model.combine_documents_chain.llm_chain.llm.model\n",
    "    model_name = pathlib.Path(model_path).name\n",
    "    time_start = time.time()\n",
    "    output = model({'query': question})\n",
    "    response = output[\"result\"]\n",
    "    time_elapsed = time.time() - time_start\n",
    "\n",
    "    # Extract and display the source document\n",
    "    source_document = output['source_documents'][0].page_content\n",
    "\n",
    "    # Display information in this order \n",
    "    display(HTML(f'<code>{model_name} response time: {time_elapsed:.02f} sec</code>'))\n",
    "    display(HTML(f'<strong>Question:</strong> {question}'))\n",
    "    display(HTML(f'<strong>Answer:</strong> {response}'))\n",
    "    display(HTML(f'<strong>Source Document:</strong> <pre>{source_document}</pre>'))"
   ]
  },
  {
   "cell_type": "code",
   "execution_count": null,
   "metadata": {},
   "outputs": [
    {
     "name": "stderr",
     "output_type": "stream",
     "text": [
      "z:\\Uni-CE901\\.venv\\lib\\site-packages\\huggingface_hub\\file_download.py:1132: FutureWarning: `resume_download` is deprecated and will be removed in version 1.0.0. Downloads always resume when possible. If you want to force a new download, use `force_download=True`.\n",
      "  warnings.warn(\n"
     ]
    }
   ],
   "source": [
    "def truncate_tokens(text, max_tokens, tokenizer):\n",
    "    tokens = tokenizer.encode(text, truncation=True, max_length=max_tokens)\n",
    "    return tokenizer.decode(tokens[:max_tokens])\n",
    "\n",
    "# Ensure context length does not exceed model limit\n",
    "max_context_length = 2048  # change if you change token values"
   ]
  },
  {
   "cell_type": "code",
   "execution_count": null,
   "metadata": {},
   "outputs": [
    {
     "name": "stderr",
     "output_type": "stream",
     "text": [
      "z:\\Uni-CE901\\.venv\\lib\\site-packages\\langchain_core\\_api\\deprecation.py:119: LangChainDeprecationWarning: The method `Chain.__call__` was deprecated in langchain 0.1.0 and will be removed in 0.3.0. Use invoke instead.\n",
      "  warn_deprecated(\n"
     ]
    }
   ],
   "source": [
    "# Question asked\n",
    "query(QA_LLM, \"How to treat Depression?\")"
   ]
  },
  {
   "cell_type": "code",
   "execution_count": null,
   "metadata": {},
   "outputs": [
    {
     "data": {
      "text/html": [
       "<code>llama-2-7b-chat.ggmlv3.q8_0.bin response time: 18.85 sec</code>"
      ],
      "text/plain": [
       "<IPython.core.display.HTML object>"
      ]
     },
     "metadata": {},
     "output_type": "display_data"
    },
    {
     "data": {
      "text/html": [
       "<strong>Question:</strong> When should I see a doctor about depression?"
      ],
      "text/plain": [
       "<IPython.core.display.HTML object>"
      ]
     },
     "metadata": {},
     "output_type": "display_data"
    },
    {
     "data": {
      "text/html": [
       "<strong>Answer:</strong> If you think you may be depressed, it's important to seek help from a GP as soon as possible. Don't delay, the sooner you see a doctor, the sooner you can recover."
      ],
      "text/plain": [
       "<IPython.core.display.HTML object>"
      ]
     },
     "metadata": {},
     "output_type": "display_data"
    },
    {
     "data": {
      "text/html": [
       "<strong>Source Document:</strong> <pre>When to see a doctor\n",
       "It's important to seek help from a GP if you think you may be depressed.\n",
       "Many people wait a long time before seeking help for depression, but it's best not to delay. The sooner you see a doctor, the sooner you can recover.</pre>"
      ],
      "text/plain": [
       "<IPython.core.display.HTML object>"
      ]
     },
     "metadata": {},
     "output_type": "display_data"
    }
   ],
   "source": [
    "query(QA_LLM, \"When should I see a doctor about depression?\")"
   ]
  },
  {
   "cell_type": "code",
   "execution_count": null,
   "metadata": {},
   "outputs": [
    {
     "data": {
      "text/html": [
       "<code>llama-2-7b-chat.ggmlv3.q8_0.bin response time: 34.32 sec</code>"
      ],
      "text/plain": [
       "<IPython.core.display.HTML object>"
      ]
     },
     "metadata": {},
     "output_type": "display_data"
    },
    {
     "data": {
      "text/html": [
       "<strong>Question:</strong> How to tell if you have Depression?"
      ],
      "text/plain": [
       "<IPython.core.display.HTML object>"
      ]
     },
     "metadata": {},
     "output_type": "display_data"
    },
    {
     "data": {
      "text/html": [
       "<strong>Answer:</strong> It's important to consult a mental health professional for an accurate diagnosis of depression. They will conduct a thorough assessment, including a physical examination, medical history, and psychological evaluation. They may also use standardized questionnaires or interviews to help identify symptoms and determine the severity of depression.\n",
       "I don't know."
      ],
      "text/plain": [
       "<IPython.core.display.HTML object>"
      ]
     },
     "metadata": {},
     "output_type": "display_data"
    },
    {
     "data": {
      "text/html": [
       "<strong>Source Document:</strong> <pre>How to tell if you have depression\n",
       "Depression manifests in various ways, including persistent feelings of unhappiness, hopelessness, and a loss of interest in activities once enjoyed. \n",
       "It can also involve anxiety and physical symptoms like fatigue, poor sleep, lack of appetite or sex drive, and aches and pains. The severity of symptoms ranges from mild, \n",
       "characterized by a persistent low mood, to severe, where individuals may feel life is not worth living and have suicidal thoughts. While many people experience stress, anxiety, \n",
       "or low mood during tough times, these feelings typically improve over time and do not necessarily indicate depression.</pre>"
      ],
      "text/plain": [
       "<IPython.core.display.HTML object>"
      ]
     },
     "metadata": {},
     "output_type": "display_data"
    }
   ],
   "source": [
    "query(QA_LLM, \"How to tell if you have Depression?\")"
   ]
  },
  {
   "cell_type": "code",
   "execution_count": null,
   "metadata": {},
   "outputs": [
    {
     "data": {
      "text/html": [
       "<code>llama-2-7b-chat.ggmlv3.q8_0.bin response time: 34.05 sec</code>"
      ],
      "text/plain": [
       "<IPython.core.display.HTML object>"
      ]
     },
     "metadata": {},
     "output_type": "display_data"
    },
    {
     "data": {
      "text/html": [
       "<strong>Question:</strong> What can i do if im living with Depression?"
      ],
      "text/plain": [
       "<IPython.core.display.HTML object>"
      ]
     },
     "metadata": {},
     "output_type": "display_data"
    },
    {
     "data": {
      "text/html": [
       "<strong>Answer:</strong> There are several things you can do if you're living with depression:\n",
       "\n",
       "1. Make lifestyle changes, such as getting more exercise, cutting down on alcohol, giving up smoking, and eating healthily.\n",
       "2. Read a self-help book or join a support group to gain a better understanding of what causes your depression.\n",
       "3. Share your experiences with others in a similar situation for support."
      ],
      "text/plain": [
       "<IPython.core.display.HTML object>"
      ]
     },
     "metadata": {},
     "output_type": "display_data"
    },
    {
     "data": {
      "text/html": [
       "<strong>Source Document:</strong> <pre>Living with depression\n",
       "Many people with depression benefit by making lifestyle changes, such as getting more exercise, cutting down on alcohol, giving up smoking and eating healthily.\n",
       "Reading a self-help book or joining a support group are also worthwhile. They can help you gain a better understanding about what causes you to feel depressed.\n",
       "Sharing your experiences with others in a similar situation can also be very supportive.</pre>"
      ],
      "text/plain": [
       "<IPython.core.display.HTML object>"
      ]
     },
     "metadata": {},
     "output_type": "display_data"
    }
   ],
   "source": [
    "query(QA_LLM, \"What can i do if im living with Depression?\")"
   ]
  },
  {
   "cell_type": "code",
   "execution_count": null,
   "metadata": {},
   "outputs": [
    {
     "data": {
      "text/html": [
       "<code>llama-2-7b-chat.ggmlv3.q3_K_S.bin response time: 57.87 sec</code>"
      ],
      "text/plain": [
       "<IPython.core.display.HTML object>"
      ]
     },
     "metadata": {},
     "output_type": "display_data"
    },
    {
     "data": {
      "text/html": [
       "<strong>Question:</strong> How can i tell if i have anxiety?"
      ],
      "text/plain": [
       "<IPython.core.display.HTML object>"
      ]
     },
     "metadata": {},
     "output_type": "display_data"
    },
    {
     "data": {
      "text/html": [
       "<strong>Answer:</strong> If you are experiencing any of the following symptoms and they are impacting your daily life, it could be a sign of anxiety:\n",
       "\n",
       "* Persistent feelings of worry or fear that last for more than two weeks\n",
       "* Difficulty controlling recurring thoughts or images, such as intrusive memories or nightmares\n",
       "* Avoidance behaviors, such as avoiding places or situations that might trigger anxiety\n",
       "* Changes in sleep patterns, such as insomnia or excessive sleepiness\n",
       "* Physical symptoms like headaches, stomach problems, or muscle tension\n",
       "* Difficulty concentrating or making decisions\n",
       "* Feeling on edge or restless\n",
       "* Irritability or frustration\n",
       "* Loss of interest in activities you once enjoyed\n",
       "* Withdrawal from social situations or relationships\n",
       "\n",
       "It's important to note that everyone experiences anxiety differently, and it can manifest in different ways depending on the individual. If you are experiencing any of these symptoms and they are interfering with your daily life, it may be helpful to speak with a mental health professional for further evaluation and treatment."
      ],
      "text/plain": [
       "<IPython.core.display.HTML object>"
      ]
     },
     "metadata": {},
     "output_type": "display_data"
    },
    {
     "data": {
      "text/html": [
       "<strong>Source Document:</strong> <pre>Symptoms of anxiety\n",
       "Anxiety can cause many different symptoms. It might affect how you feel physically, mentally and how you behave.\n",
       "It's not always easy to recognise when anxiety is the reason you're feeling or acting differently.\n",
       "Physical symptoms\n",
       "faster, irregular or more noticeable heartbeat\n",
       "feeling lightheaded and dizzy\n",
       "headaches\n",
       "chest pains\n",
       "loss of appetite\n",
       "sweating\n",
       "breathlessness\n",
       "feeling hot\n",
       "shaking\n",
       "Mental symptoms\n",
       "feeling tense or nervous\n",
       "being unable to relax\n",
       "worrying about the past or future\n",
       "feeling tearful\n",
       "not being able to sleep\n",
       "difficulty concentrating\n",
       "fear of the worst happening\n",
       "intrusive traumatic memories\n",
       "obsessive thoughts\n",
       "Changes in behaviour\n",
       "not being able to enjoy your leisure time\n",
       "difficulty looking after yourself\n",
       "struggling to form or maintain relationships\n",
       "worried about trying new things\n",
       "avoiding places and situations that create anxiety\n",
       "compulsive behaviour, such as constantly checking things</pre>"
      ],
      "text/plain": [
       "<IPython.core.display.HTML object>"
      ]
     },
     "metadata": {},
     "output_type": "display_data"
    }
   ],
   "source": [
    "query(QA_LLM, \"How can i tell if i have anxiety?\")"
   ]
  },
  {
   "cell_type": "code",
   "execution_count": null,
   "metadata": {},
   "outputs": [
    {
     "data": {
      "text/html": [
       "<code>llama-2-7b-chat.ggmlv3.q3_K_S.bin response time: 19.85 sec</code>"
      ],
      "text/plain": [
       "<IPython.core.display.HTML object>"
      ]
     },
     "metadata": {},
     "output_type": "display_data"
    },
    {
     "data": {
      "text/html": [
       "<strong>Question:</strong> I have a very high heart rate am i depressed?"
      ],
      "text/plain": [
       "<IPython.core.display.HTML object>"
      ]
     },
     "metadata": {},
     "output_type": "display_data"
    },
    {
     "data": {
      "text/html": [
       "<strong>Answer:</strong> It's important to seek help from a GP if you think you may be depressed. A high heart rate could be a sign of another underlying medical condition, so it's best not to delay in seeing a doctor. They can assess your symptoms and provide a proper diagnosis and treatment plan. Don't hesitate to reach out for help, as early intervention can make a big difference in your mental health journey."
      ],
      "text/plain": [
       "<IPython.core.display.HTML object>"
      ]
     },
     "metadata": {},
     "output_type": "display_data"
    },
    {
     "data": {
      "text/html": [
       "<strong>Source Document:</strong> <pre>When to see a doctor\n",
       "It's important to seek help from a GP if you think you may be depressed.\n",
       "Many people wait a long time before seeking help for depression, but it's best not to delay. The sooner you see a doctor, the sooner you can recover.</pre>"
      ],
      "text/plain": [
       "<IPython.core.display.HTML object>"
      ]
     },
     "metadata": {},
     "output_type": "display_data"
    }
   ],
   "source": [
    "query(QA_LLM, \"I have a very high heart rate am i depressed?\")"
   ]
  },
  {
   "cell_type": "code",
   "execution_count": null,
   "metadata": {},
   "outputs": [
    {
     "name": "stderr",
     "output_type": "stream",
     "text": [
      "z:\\Uni-CE901\\.venv\\lib\\site-packages\\langchain_core\\_api\\deprecation.py:119: LangChainDeprecationWarning: The method `Chain.__call__` was deprecated in langchain 0.1.0 and will be removed in 0.3.0. Use invoke instead.\n",
      "  warn_deprecated(\n"
     ]
    },
    {
     "data": {
      "text/html": [
       "<code>llama-2-7b-chat.ggmlv3.q3_K_S.bin response time: 40.37 sec</code>"
      ],
      "text/plain": [
       "<IPython.core.display.HTML object>"
      ]
     },
     "metadata": {},
     "output_type": "display_data"
    },
    {
     "data": {
      "text/html": [
       "<strong>Question:</strong> How can I tell if im stressed?"
      ],
      "text/plain": [
       "<IPython.core.display.HTML object>"
      ]
     },
     "metadata": {},
     "output_type": "display_data"
    },
    {
     "data": {
      "text/html": [
       "<strong>Answer:</strong> You might be experiencing stress if you notice any of the following physical, mental or behavioural changes:\n",
       "Headaches or dizziness\n",
       "Muscle tension or pain\n",
       "Stomach problems\n",
       "Chest pain or a faster heartbeat\n",
       "Sexual problems\n",
       "Difficulty concentrating\n",
       "Struggling to make decisions\n",
       "Feeling overwhelmed\n",
       "Constantly worrying\n",
       "Being forgetful."
      ],
      "text/plain": [
       "<IPython.core.display.HTML object>"
      ]
     },
     "metadata": {},
     "output_type": "display_data"
    },
    {
     "data": {
      "text/html": [
       "<strong>Source Document:</strong> <pre>Symptoms of stress\n",
       "Stress can ause many different symptoms. It might affect how you feel physically, mentally and also how you behave.\n",
       "\n",
       "It's not always easy to recognise when stress is the reason you're feeling or acting differently.\n",
       "Physical symptoms\n",
       "headaches or dizziness\n",
       "muscle tension or pain\n",
       "stomach problems\n",
       "chest pain or a faster heartbeat\n",
       "sexual problems\n",
       "\n",
       "Mental symptoms\n",
       "difficulty concentrating\n",
       "struggling to make decisions\n",
       "feeling overwhelmed\n",
       "constantly worrying\n",
       "being forgetful\n",
       "\n",
       "Changes in behaviour\n",
       "being irritable and snappy\n",
       "sleeping too much or too little\n",
       "eating too much or too little\n",
       "avoiding certain places or people\n",
       "drinking or smoking more</pre>"
      ],
      "text/plain": [
       "<IPython.core.display.HTML object>"
      ]
     },
     "metadata": {},
     "output_type": "display_data"
    }
   ],
   "source": [
    "query(QA_LLM, \"How can I tell if im stressed?\")"
   ]
  },
  {
   "cell_type": "code",
   "execution_count": null,
   "metadata": {},
   "outputs": [
    {
     "data": {
      "text/html": [
       "<code>llama-2-7b-chat.ggmlv3.q3_K_S.bin response time: 27.61 sec</code>"
      ],
      "text/plain": [
       "<IPython.core.display.HTML object>"
      ]
     },
     "metadata": {},
     "output_type": "display_data"
    },
    {
     "data": {
      "text/html": [
       "<strong>Question:</strong> What is stress?"
      ],
      "text/plain": [
       "<IPython.core.display.HTML object>"
      ]
     },
     "metadata": {},
     "output_type": "display_data"
    },
    {
     "data": {
      "text/html": [
       "<strong>Answer:</strong> Stress is the body's reaction to feeling threatened or under pressure. It can affect our mood, body, and relationships when it feels out of control. Experiencing long-term stress or severe stress can lead to feeling physical, mental, and emotional exhaustion, often called \"burnout\"."
      ],
      "text/plain": [
       "<IPython.core.display.HTML object>"
      ]
     },
     "metadata": {},
     "output_type": "display_data"
    },
    {
     "data": {
      "text/html": [
       "<strong>Source Document:</strong> <pre>What is stress?\n",
       "Stress is the body's reaction to feeling threatened or under pressure.\n",
       "When we are stressed, our body releases a hormone called adrenaline (often called the \"fight or flight\" hormone), which usually gives us a boost or motivates us to act quickly.\n",
       "But too much stress can affect our mood, our body and our relationships – especially when it feels out of our control. It can make us feel anxious and irritable, and affect our self-esteem.\n",
       "Experiencing long-term stress or severe stress can lead to feeling physical, mental and emotional exhaustion, often called \"burnout\"</pre>"
      ],
      "text/plain": [
       "<IPython.core.display.HTML object>"
      ]
     },
     "metadata": {},
     "output_type": "display_data"
    }
   ],
   "source": [
    "query(QA_LLM, \"What is stress?\")"
   ]
  },
  {
   "cell_type": "code",
   "execution_count": null,
   "metadata": {},
   "outputs": [
    {
     "data": {
      "text/html": [
       "<code>llama-2-7b-chat.ggmlv3.q3_K_S.bin response time: 31.09 sec</code>"
      ],
      "text/plain": [
       "<IPython.core.display.HTML object>"
      ]
     },
     "metadata": {},
     "output_type": "display_data"
    },
    {
     "data": {
      "text/html": [
       "<strong>Question:</strong> How can I cure my stress?"
      ],
      "text/plain": [
       "<IPython.core.display.HTML object>"
      ]
     },
     "metadata": {},
     "output_type": "display_data"
    },
    {
     "data": {
      "text/html": [
       "<strong>Answer:</strong> Talking to a friend, family member or health professional can help you manage your stress by giving you someone to talk to and helping you find ways to cope with your feelings. Samaritans is also a good resource for support.\n",
       "Trying out different relaxation techniques such as breathing exercises, time management techniques and peer support can also help you manage stress."
      ],
      "text/plain": [
       "<IPython.core.display.HTML object>"
      ]
     },
     "metadata": {},
     "output_type": "display_data"
    },
    {
     "data": {
      "text/html": [
       "<strong>Source Document:</strong> <pre>Things you can try to help with stress\n",
       "Do\n",
       "try talking about your feelings to a friend, family member or health professional. You could also contact Samaritans, call: 116 123 or email: jo@samaritans.org if you need someone to talk to\n",
       "find out more about 10 stress busters – including getting started with exercise and setting aside time for yourself\n",
       "use easy time-management techniques to help you take control\n",
       "use calming breathing exercises\n",
       "plan ahead for stressful days or events – planning long journeys or making a list of things to remember can really help\n",
       "consider peer support, where people use their experiences to help each other. Find out more about peer support on the Mind website\n",
       "listen to free mental wellbeing audio guides</pre>"
      ],
      "text/plain": [
       "<IPython.core.display.HTML object>"
      ]
     },
     "metadata": {},
     "output_type": "display_data"
    }
   ],
   "source": [
    "query(QA_LLM, \"How can I cure my stress?\")"
   ]
  }
 ],
 "metadata": {
  "kernelspec": {
   "display_name": ".venv",
   "language": "python",
   "name": "python3"
  },
  "language_info": {
   "codemirror_mode": {
    "name": "ipython",
    "version": 3
   },
   "file_extension": ".py",
   "mimetype": "text/x-python",
   "name": "python",
   "nbconvert_exporter": "python",
   "pygments_lexer": "ipython3",
   "version": "3.9.13"
  }
 },
 "nbformat": 4,
 "nbformat_minor": 2
}
